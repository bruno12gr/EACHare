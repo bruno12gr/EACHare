{
 "cells": [
  {
   "metadata": {},
   "cell_type": "markdown",
   "source": [
    "# Fluxograma da Arquitetura da Classe EacharePeer\n",
    "\n",
    "Este documento apresenta um fluxograma descrevendo a arquitetura da classe `EacharePeer` para uma rede peer-to-peer (P2P). A classe organiza diversos componentes, como estado local, métodos de comunicação, gerenciamento de peers e sincronização. O fluxograma abaixo busca ilustrar como esses componentes interagem.\n",
    "\n",
    "---"
   ],
   "id": "132fe5af83e8789"
  },
  {
   "metadata": {},
   "cell_type": "code",
   "outputs": [],
   "execution_count": null,
   "source": [
    "# Importando bibliotecas necessárias\n",
    "from graphviz import Digraph"
   ],
   "id": "18914b480df4b66b"
  },
  {
   "metadata": {
    "ExecuteTime": {
     "end_time": "2025-03-30T16:06:12.327149Z",
     "start_time": "2025-03-30T16:06:12.060932Z"
    }
   },
   "cell_type": "code",
   "source": [
    "# Criando o fluxograma da arquitetura do EacharePeer\n",
    "dot = Digraph(\"EacharePeer Architecture\", format=\"png\")\n",
    "dot.attr(rankdir=\"TB\")  # Direção de cima para baixo\n",
    "dot.attr(\"node\", shape=\"rectangle\", style=\"filled\", color=\"#f8f8f8\", fontsize=\"10\")\n",
    "\n",
    "# Nodo inicial\n",
    "dot.node(\"start\", \"Início (\\_\\_init\\_\\_)\", shape=\"ellipse\", color=\"#a8d8a8\")\n",
    "\n",
    "# Estado Local (Atributos)\n",
    "dot.node(\"state\", \"Estado Local\\n(address, port, clock, peers, etc.)\")\n",
    "\n",
    "# Comunicação Externa\n",
    "dot.node(\"comm\", \"Comunicação Externa\\n(send_message, _listen, handle_message)\")\n",
    "\n",
    "# Gerenciamento de Peers e Arquivos\n",
    "dot.node(\"management\", \"Gerenciamento de Peers e Arquivos\\n(add_peer, list_peers, process_peer_list)\")\n",
    "\n",
    "# Sincronização\n",
    "dot.node(\"sync\", \"Sincronização\\n(clock_lock, operações sobre clock)\")\n",
    "\n",
    "# Encerramento\n",
    "dot.node(\"exit\", \"Encerramento (exit)\", shape=\"ellipse\", color=\"#f8a8a8\")\n",
    "\n",
    "# Conexões\n",
    "dot.edges([\n",
    "    (\"start\", \"state\"),\n",
    "    (\"state\", \"comm\"),\n",
    "    (\"comm\", \"management\"),\n",
    "    (\"state\", \"sync\"),\n",
    "    (\"sync\", \"management\"),\n",
    "    (\"comm\", \"exit\"),\n",
    "    (\"management\", \"exit\"),\n",
    "])\n",
    "\n",
    "# Renderizando o fluxograma\n",
    "dot.view()"
   ],
   "id": "c6768312d5bba1fc",
   "outputs": [
    {
     "name": "stderr",
     "output_type": "stream",
     "text": [
      "<>:7: SyntaxWarning: invalid escape sequence '\\_'\n",
      "<>:7: SyntaxWarning: invalid escape sequence '\\_'\n",
      "C:\\Users\\alain\\AppData\\Local\\Temp\\ipykernel_11348\\4242492527.py:7: SyntaxWarning: invalid escape sequence '\\_'\n",
      "  dot.node(\"start\", \"Início (\\_\\_init\\_\\_)\", shape=\"ellipse\", color=\"#a8d8a8\")\n",
      "C:\\Users\\alain\\AppData\\Local\\Temp\\ipykernel_11348\\4242492527.py:7: SyntaxWarning: invalid escape sequence '\\_'\n",
      "  dot.node(\"start\", \"Início (\\_\\_init\\_\\_)\", shape=\"ellipse\", color=\"#a8d8a8\")\n"
     ]
    },
    {
     "ename": "NameError",
     "evalue": "name 'Digraph' is not defined",
     "output_type": "error",
     "traceback": [
      "\u001B[31m---------------------------------------------------------------------------\u001B[39m",
      "\u001B[31mNameError\u001B[39m                                 Traceback (most recent call last)",
      "\u001B[36mCell\u001B[39m\u001B[36m \u001B[39m\u001B[32mIn[1]\u001B[39m\u001B[32m, line 2\u001B[39m\n\u001B[32m      1\u001B[39m \u001B[38;5;66;03m# Criando o fluxograma da arquitetura do EacharePeer\u001B[39;00m\n\u001B[32m----> \u001B[39m\u001B[32m2\u001B[39m dot = \u001B[43mDigraph\u001B[49m(\u001B[33m\"\u001B[39m\u001B[33mEacharePeer Architecture\u001B[39m\u001B[33m\"\u001B[39m, \u001B[38;5;28mformat\u001B[39m=\u001B[33m\"\u001B[39m\u001B[33mpng\u001B[39m\u001B[33m\"\u001B[39m)\n\u001B[32m      3\u001B[39m dot.attr(rankdir=\u001B[33m\"\u001B[39m\u001B[33mTB\u001B[39m\u001B[33m\"\u001B[39m)  \u001B[38;5;66;03m# Direção de cima para baixo\u001B[39;00m\n\u001B[32m      4\u001B[39m dot.attr(\u001B[33m\"\u001B[39m\u001B[33mnode\u001B[39m\u001B[33m\"\u001B[39m, shape=\u001B[33m\"\u001B[39m\u001B[33mrectangle\u001B[39m\u001B[33m\"\u001B[39m, style=\u001B[33m\"\u001B[39m\u001B[33mfilled\u001B[39m\u001B[33m\"\u001B[39m, color=\u001B[33m\"\u001B[39m\u001B[33m#f8f8f8\u001B[39m\u001B[33m\"\u001B[39m, fontsize=\u001B[33m\"\u001B[39m\u001B[33m10\u001B[39m\u001B[33m\"\u001B[39m)\n",
      "\u001B[31mNameError\u001B[39m: name 'Digraph' is not defined"
     ]
    }
   ],
   "execution_count": 1
  },
  {
   "metadata": {},
   "cell_type": "markdown",
   "source": [
    "## Comentários\n",
    "\n",
    "- **Início (\\_\\_init\\_\\_)**: Representa onde todas as instâncias da classe `EacharePeer` são inicializadas.\n",
    "- **Estado Local**: Componentes internos e atributos da instância, como `address`, `port`, `clock`, e `peers`.\n",
    "- **Comunicação Externa**: Funções que permitem a troca de mensagens entre os peers.\n",
    "- **Gerenciamento de Peers e Arquivos**: Métodos que ajudam a adicionar, listar e processar peers e arquivos compartilhados.\n",
    "- **Sincronização**: Gerenciamento do recurso `clock_lock` e a manutenção do estado do relógio lógico utilizado na comunicação.\n",
    "- **Encerramento**: Finaliza operações e libera os recursos utilizados pela instância."
   ],
   "id": "3de5a6a768daa33"
  },
  {
   "metadata": {},
   "cell_type": "markdown",
   "source": "",
   "id": "be1b2491bf350cc7"
  }
 ],
 "metadata": {
  "kernelspec": {
   "display_name": "Python 3",
   "language": "python",
   "name": "python3"
  },
  "language_info": {
   "codemirror_mode": {
    "name": "ipython",
    "version": 2
   },
   "file_extension": ".py",
   "mimetype": "text/x-python",
   "name": "python",
   "nbconvert_exporter": "python",
   "pygments_lexer": "ipython2",
   "version": "2.7.6"
  }
 },
 "nbformat": 4,
 "nbformat_minor": 5
}
